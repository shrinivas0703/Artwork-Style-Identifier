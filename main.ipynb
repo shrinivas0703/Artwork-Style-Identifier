{
 "cells": [
  {
   "cell_type": "code",
   "execution_count": 1,
   "metadata": {},
   "outputs": [
    {
     "name": "stdout",
     "output_type": "stream",
     "text": [
      "Intel MKL WARNING: Support of Intel(R) Streaming SIMD Extensions 4.2 (Intel(R) SSE4.2) enabled only processors has been deprecated. Intel oneAPI Math Kernel Library 2025.0 will require Intel(R) Advanced Vector Extensions (Intel(R) AVX) instructions.\n",
      "Intel MKL WARNING: Support of Intel(R) Streaming SIMD Extensions 4.2 (Intel(R) SSE4.2) enabled only processors has been deprecated. Intel oneAPI Math Kernel Library 2025.0 will require Intel(R) Advanced Vector Extensions (Intel(R) AVX) instructions.\n"
     ]
    }
   ],
   "source": [
    "from sklearn.model_selection import train_test_split\n",
    "import os\n",
    "import shutil"
   ]
  },
  {
   "cell_type": "code",
   "execution_count": 6,
   "metadata": {},
   "outputs": [],
   "source": [
    "def generate_train_test_split():\n",
    "    art_styles = os.listdir('data_resized')  # 20 styles\n",
    "    for style in art_styles:\n",
    "        image_paths = [os.path.join('data_resized', style, img) for img in os.listdir(os.path.join('data_resized', style))]\n",
    "        train_paths, test_paths = train_test_split(image_paths, test_size=0.2)\n",
    "        train_paths, val_paths = train_test_split(train_paths, test_size=0.2)\n",
    "        \n",
    "        # Create directories for training, validation, and test sets\n",
    "        os.makedirs('data_train/{}/'.format(style), exist_ok=True)\n",
    "        os.makedirs('data_val/{}/'.format(style), exist_ok=True)\n",
    "        os.makedirs('data_test/{}/'.format(style), exist_ok=True)\n",
    "\n",
    "        # Move images to the corresponding directories\n",
    "        for path in train_paths:\n",
    "            shutil.copy(path, f'data_train/{style}/{os.path.basename(path)}')\n",
    "        for path in val_paths:\n",
    "            shutil.copy(path, f'data_val/{style}/{os.path.basename(path)}')\n",
    "        for path in test_paths:\n",
    "            shutil.move(path, f'data_test/{style}/{os.path.basename(path)}')"
   ]
  },
  {
   "cell_type": "code",
   "execution_count": 7,
   "metadata": {},
   "outputs": [],
   "source": [
    "generate_train_test_split()"
   ]
  },
  {
   "cell_type": "code",
   "execution_count": null,
   "metadata": {},
   "outputs": [],
   "source": []
  }
 ],
 "metadata": {
  "kernelspec": {
   "display_name": "dev",
   "language": "python",
   "name": "python3"
  },
  "language_info": {
   "codemirror_mode": {
    "name": "ipython",
    "version": 3
   },
   "file_extension": ".py",
   "mimetype": "text/x-python",
   "name": "python",
   "nbconvert_exporter": "python",
   "pygments_lexer": "ipython3",
   "version": "3.11.0"
  }
 },
 "nbformat": 4,
 "nbformat_minor": 2
}
